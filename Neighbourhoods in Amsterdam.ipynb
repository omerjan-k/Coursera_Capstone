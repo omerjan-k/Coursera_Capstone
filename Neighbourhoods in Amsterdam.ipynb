{
 "cells": [
  {
   "cell_type": "markdown",
   "metadata": {},
   "source": [
    "## Introduction/Business problem\n",
    "\n",
    "####  Amsterdam, the city author works, attracting millions of tourists every year because of its stunning<br> <br> architecture, rich culture, history and nightlife. While enjoying this beautiful city, eating a delicious<br> <br> meal ideally meets  tourists'  expectations. However, finding the right place to eat can be a challenge,<br> <br> though. Different tourists prefer different dishes due to  different backgrounds, cultures and religions.\n",
    "\n",
    "#### Thus, the goal of this exercise is to give a simple recommendation to tourists in Amsterdam: in which  <br><br>district (neighbourhood) of the city fit their needs in terms of food venues. For instance, Where to <br><br>eat Mediterranean food, where to find Turkish food, where to get fast food?\n"
   ]
  },
  {
   "cell_type": "markdown",
   "metadata": {},
   "source": [
    "## Data Requirements\n",
    "\n",
    "### List of neighbourhoods (districts) in Amsterdame\n",
    "\n",
    "#### Data source:<br>\n",
    "\n",
    "https://en.wikipedia.org/wiki/Boroughs_of_Amsterdam\n",
    "\n",
    "#### Description: We will Scrap Amsterdam districts (neighbourhoods)  from Wikipedia and get the <br><br>coordinates of these districts (neighbourhoods) using the geocoder class of Geopy client.\n",
    "\n",
    "### Restaurants in each neighborhood of Amsterdam\n",
    "\n",
    "#### Data source: Foursquare APIs\n",
    "\n",
    "#### Description : Foursquare is a US tech company from New York focusing on location data. Their <br><br>technology and data powers apps such as Apple's Maps, Uber, Twitter . By using this API we will get <br><br>all the venues in each neighborhood. We can filter these venues to get only restaurants.\n",
    "\n",
    "#### This is a project that will make use of many data science skills, from web scraping (Wikipedia), <br><br>working with API (Foursquare), data cleaning, data wrangling, to machine learning (K-means <br><br>clustering) and map visualization (Folium).\n",
    "\n",
    "\n"
   ]
  },
  {
   "cell_type": "code",
   "execution_count": null,
   "metadata": {},
   "outputs": [],
   "source": []
  }
 ],
 "metadata": {
  "kernelspec": {
   "display_name": "Python 3",
   "language": "python",
   "name": "python3"
  },
  "language_info": {
   "codemirror_mode": {
    "name": "ipython",
    "version": 3
   },
   "file_extension": ".py",
   "mimetype": "text/x-python",
   "name": "python",
   "nbconvert_exporter": "python",
   "pygments_lexer": "ipython3",
   "version": "3.7.6"
  }
 },
 "nbformat": 4,
 "nbformat_minor": 4
}
